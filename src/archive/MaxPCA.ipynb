{
  "cells": [
    {
      "cell_type": "code",
      "execution_count": 16,
      "metadata": {
        "colab": {
          "base_uri": "https://localhost:8080/"
        },
        "id": "RGymPWtc8qvt",
        "outputId": "7f56fef3-db23-4ecc-c7e7-2e4b2685839f"
      },
      "outputs": [
        {
          "name": "stdout",
          "output_type": "stream",
          "text": [
            "Requirement already satisfied: umap-learn in /usr/local/lib/python3.10/dist-packages (0.5.6)\n",
            "Requirement already satisfied: numpy>=1.17 in /usr/local/lib/python3.10/dist-packages (from umap-learn) (1.26.4)\n",
            "Requirement already satisfied: scipy>=1.3.1 in /usr/local/lib/python3.10/dist-packages (from umap-learn) (1.13.1)\n",
            "Requirement already satisfied: scikit-learn>=0.22 in /usr/local/lib/python3.10/dist-packages (from umap-learn) (1.3.2)\n",
            "Requirement already satisfied: numba>=0.51.2 in /usr/local/lib/python3.10/dist-packages (from umap-learn) (0.60.0)\n",
            "Requirement already satisfied: pynndescent>=0.5 in /usr/local/lib/python3.10/dist-packages (from umap-learn) (0.5.13)\n",
            "Requirement already satisfied: tqdm in /usr/local/lib/python3.10/dist-packages (from umap-learn) (4.66.5)\n",
            "Requirement already satisfied: llvmlite<0.44,>=0.43.0dev0 in /usr/local/lib/python3.10/dist-packages (from numba>=0.51.2->umap-learn) (0.43.0)\n",
            "Requirement already satisfied: joblib>=0.11 in /usr/local/lib/python3.10/dist-packages (from pynndescent>=0.5->umap-learn) (1.4.2)\n",
            "Requirement already satisfied: threadpoolctl>=2.0.0 in /usr/local/lib/python3.10/dist-packages (from scikit-learn>=0.22->umap-learn) (3.5.0)\n",
            "Requirement already satisfied: python-chess in /usr/local/lib/python3.10/dist-packages (1.999)\n",
            "Requirement already satisfied: chess<2,>=1 in /usr/local/lib/python3.10/dist-packages (from python-chess) (1.10.0)\n",
            "Requirement already satisfied: tensorflow in /usr/local/lib/python3.10/dist-packages (2.17.0)\n",
            "Requirement already satisfied: absl-py>=1.0.0 in /usr/local/lib/python3.10/dist-packages (from tensorflow) (1.4.0)\n",
            "Requirement already satisfied: astunparse>=1.6.0 in /usr/local/lib/python3.10/dist-packages (from tensorflow) (1.6.3)\n",
            "Requirement already satisfied: flatbuffers>=24.3.25 in /usr/local/lib/python3.10/dist-packages (from tensorflow) (24.3.25)\n",
            "Requirement already satisfied: gast!=0.5.0,!=0.5.1,!=0.5.2,>=0.2.1 in /usr/local/lib/python3.10/dist-packages (from tensorflow) (0.6.0)\n",
            "Requirement already satisfied: google-pasta>=0.1.1 in /usr/local/lib/python3.10/dist-packages (from tensorflow) (0.2.0)\n",
            "Requirement already satisfied: h5py>=3.10.0 in /usr/local/lib/python3.10/dist-packages (from tensorflow) (3.11.0)\n",
            "Requirement already satisfied: libclang>=13.0.0 in /usr/local/lib/python3.10/dist-packages (from tensorflow) (18.1.1)\n",
            "Requirement already satisfied: ml-dtypes<0.5.0,>=0.3.1 in /usr/local/lib/python3.10/dist-packages (from tensorflow) (0.4.0)\n",
            "Requirement already satisfied: opt-einsum>=2.3.2 in /usr/local/lib/python3.10/dist-packages (from tensorflow) (3.3.0)\n",
            "Requirement already satisfied: packaging in /usr/local/lib/python3.10/dist-packages (from tensorflow) (24.1)\n",
            "Requirement already satisfied: protobuf!=4.21.0,!=4.21.1,!=4.21.2,!=4.21.3,!=4.21.4,!=4.21.5,<5.0.0dev,>=3.20.3 in /usr/local/lib/python3.10/dist-packages (from tensorflow) (3.20.3)\n",
            "Requirement already satisfied: requests<3,>=2.21.0 in /usr/local/lib/python3.10/dist-packages (from tensorflow) (2.32.3)\n",
            "Requirement already satisfied: setuptools in /usr/local/lib/python3.10/dist-packages (from tensorflow) (71.0.4)\n",
            "Requirement already satisfied: six>=1.12.0 in /usr/local/lib/python3.10/dist-packages (from tensorflow) (1.16.0)\n",
            "Requirement already satisfied: termcolor>=1.1.0 in /usr/local/lib/python3.10/dist-packages (from tensorflow) (2.4.0)\n",
            "Requirement already satisfied: typing-extensions>=3.6.6 in /usr/local/lib/python3.10/dist-packages (from tensorflow) (4.12.2)\n",
            "Requirement already satisfied: wrapt>=1.11.0 in /usr/local/lib/python3.10/dist-packages (from tensorflow) (1.16.0)\n",
            "Requirement already satisfied: grpcio<2.0,>=1.24.3 in /usr/local/lib/python3.10/dist-packages (from tensorflow) (1.64.1)\n",
            "Requirement already satisfied: tensorboard<2.18,>=2.17 in /usr/local/lib/python3.10/dist-packages (from tensorflow) (2.17.0)\n",
            "Requirement already satisfied: keras>=3.2.0 in /usr/local/lib/python3.10/dist-packages (from tensorflow) (3.4.1)\n",
            "Requirement already satisfied: tensorflow-io-gcs-filesystem>=0.23.1 in /usr/local/lib/python3.10/dist-packages (from tensorflow) (0.37.1)\n",
            "Requirement already satisfied: numpy<2.0.0,>=1.23.5 in /usr/local/lib/python3.10/dist-packages (from tensorflow) (1.26.4)\n",
            "Requirement already satisfied: wheel<1.0,>=0.23.0 in /usr/local/lib/python3.10/dist-packages (from astunparse>=1.6.0->tensorflow) (0.44.0)\n",
            "Requirement already satisfied: rich in /usr/local/lib/python3.10/dist-packages (from keras>=3.2.0->tensorflow) (13.7.1)\n",
            "Requirement already satisfied: namex in /usr/local/lib/python3.10/dist-packages (from keras>=3.2.0->tensorflow) (0.0.8)\n",
            "Requirement already satisfied: optree in /usr/local/lib/python3.10/dist-packages (from keras>=3.2.0->tensorflow) (0.12.1)\n",
            "Requirement already satisfied: charset-normalizer<4,>=2 in /usr/local/lib/python3.10/dist-packages (from requests<3,>=2.21.0->tensorflow) (3.3.2)\n",
            "Requirement already satisfied: idna<4,>=2.5 in /usr/local/lib/python3.10/dist-packages (from requests<3,>=2.21.0->tensorflow) (3.7)\n",
            "Requirement already satisfied: urllib3<3,>=1.21.1 in /usr/local/lib/python3.10/dist-packages (from requests<3,>=2.21.0->tensorflow) (2.0.7)\n",
            "Requirement already satisfied: certifi>=2017.4.17 in /usr/local/lib/python3.10/dist-packages (from requests<3,>=2.21.0->tensorflow) (2024.7.4)\n",
            "Requirement already satisfied: markdown>=2.6.8 in /usr/local/lib/python3.10/dist-packages (from tensorboard<2.18,>=2.17->tensorflow) (3.7)\n",
            "Requirement already satisfied: tensorboard-data-server<0.8.0,>=0.7.0 in /usr/local/lib/python3.10/dist-packages (from tensorboard<2.18,>=2.17->tensorflow) (0.7.2)\n",
            "Requirement already satisfied: werkzeug>=1.0.1 in /usr/local/lib/python3.10/dist-packages (from tensorboard<2.18,>=2.17->tensorflow) (3.0.3)\n",
            "Requirement already satisfied: MarkupSafe>=2.1.1 in /usr/local/lib/python3.10/dist-packages (from werkzeug>=1.0.1->tensorboard<2.18,>=2.17->tensorflow) (2.1.5)\n",
            "Requirement already satisfied: markdown-it-py>=2.2.0 in /usr/local/lib/python3.10/dist-packages (from rich->keras>=3.2.0->tensorflow) (3.0.0)\n",
            "Requirement already satisfied: pygments<3.0.0,>=2.13.0 in /usr/local/lib/python3.10/dist-packages (from rich->keras>=3.2.0->tensorflow) (2.16.1)\n",
            "Requirement already satisfied: mdurl~=0.1 in /usr/local/lib/python3.10/dist-packages (from markdown-it-py>=2.2.0->rich->keras>=3.2.0->tensorflow) (0.1.2)\n",
            "Requirement already satisfied: tqdm in /usr/local/lib/python3.10/dist-packages (4.66.5)\n"
          ]
        }
      ],
      "source": [
        "# !pip install umap-learn\n",
        "# !pip install python-chess\n",
        "# !pip install tensorflow\n",
        "# !pip install tqdm\n",
        "\n",
        "\n",
        "import pandas as pd\n",
        "import matplotlib.pyplot as plt\n",
        "import seaborn as sns\n",
        "import random\n",
        "from collections import Counter\n",
        "from sklearn.ensemble import RandomForestClassifier\n",
        "import networkx as nx\n",
        "import numpy as np\n",
        "from sklearn.model_selection import train_test_split\n",
        "from sklearn.preprocessing import LabelEncoder, OneHotEncoder\n",
        "from sklearn.metrics import accuracy_score, silhouette_score\n",
        "from sklearn.metrics import accuracy_score, f1_score\n",
        "from sklearn.pipeline import Pipeline\n",
        "from sklearn.neural_network import MLPClassifier\n",
        "from tensorflow.keras.preprocessing.sequence import pad_sequences\n",
        "from sklearn.decomposition import PCA\n",
        "from sklearn.manifold import TSNE\n",
        "import umap.umap_ as umap\n",
        "from sklearn.feature_extraction.text import TfidfVectorizer, CountVectorizer\n",
        "from imblearn.over_sampling import SMOTE\n",
        "import chess\n",
        "import chess.pgn\n",
        "from tqdm import tqdm\n",
        "from sklearn.preprocessing import LabelEncoder\n"
      ]
    },
    {
      "cell_type": "code",
      "execution_count": 17,
      "metadata": {
        "colab": {
          "base_uri": "https://localhost:8080/"
        },
        "id": "6MjctMQw85Wa",
        "outputId": "f9f62e5e-681d-4533-a95b-67edced4f520"
      },
      "outputs": [
        {
          "name": "stdout",
          "output_type": "stream",
          "text": [
            "Total illegal moves detected: 0\n"
          ]
        }
      ],
      "source": [
        "data = pd.read_csv('data/games.csv')\n",
        "\n",
        "grouped_eco_labels = {\n",
        "    'A00': 'Polish (Sokolsky) opening',\n",
        "    'A01': 'Nimzovich-Larsen attack',\n",
        "    'A02-A03': \"Bird's opening\",\n",
        "    'A04-A09': 'Reti opening',\n",
        "    'A10-A39': 'English opening',\n",
        "    'A40-A41': \"Queen's pawn\",\n",
        "    'A42': 'Modern defence, Averbakh system',\n",
        "    'A43-A44': 'Old Benoni defence',\n",
        "    'A45-A46': \"Queen's pawn game\",\n",
        "    'A47': \"Queen's Indian defence\",\n",
        "    'A48-A49': \"King's Indian, East Indian defence\",\n",
        "    'A50': \"Queen's pawn game\",\n",
        "    'A51-A52': 'Budapest defence',\n",
        "    'A53-A55': 'Old Indian defence',\n",
        "    'A56': 'Benoni defence',\n",
        "    'A57-A59': 'Benko gambit',\n",
        "    'A60-A79': 'Benoni defence',\n",
        "    'A80-A99': 'Dutch',\n",
        "    'B00': \"King's pawn opening\",\n",
        "    'B01': 'Scandinavian (centre counter) defence',\n",
        "    'B02-B05': \"Alekhine's defence\",\n",
        "    'B06': 'Robatsch (modern) defence',\n",
        "    'B07-B09': 'Pirc defence',\n",
        "    'B10-B19': 'Caro-Kann defence',\n",
        "    'B20-B99': 'Sicilian defence',\n",
        "    'C00-C19': 'French defence',\n",
        "    'C20': \"King's pawn game\",\n",
        "    'C21-C22': 'Centre game',\n",
        "    'C23-C24': \"Bishop's opening\",\n",
        "    'C25-C29': 'Vienna game',\n",
        "    'C30-C39': \"King's gambit\",\n",
        "    'C40': \"King's knight opening\",\n",
        "    'C41': \"Philidor's defence\",\n",
        "    'C42-C43': \"Petrov's defence\",\n",
        "    'C44': \"King's pawn game\",\n",
        "    'C45': \"Scotch game\",\n",
        "    'C46': \"Three knights game\",\n",
        "    'C47-C49': \"Four knights, Scotch variation\",\n",
        "    'C50': \"Italian Game\",\n",
        "    'C51-C52': \"Evans gambit\",\n",
        "    'C53-C54': \"Giuoco Piano\",\n",
        "    'C55-C59': \"Two knights defence\",\n",
        "    'C60-C99': \"Ruy Lopez (Spanish opening)\",\n",
        "    'D00': \"Queen's pawn game\",\n",
        "    'D01': 'Richter-Veresov attack',\n",
        "    'D02': \"Queen's pawn game\",\n",
        "    'D03': 'Torre attack (Tartakower variation)',\n",
        "    'D04-D05': \"Queen's pawn game\",\n",
        "    'D06': \"Queen's Gambit\",\n",
        "    'D07-D09': \"Queen's Gambit Declined, Chigorin defence\",\n",
        "    'D10-D15': \"Queen's Gambit Declined Slav defence\",\n",
        "    'D16': \"Queen's Gambit Declined Slav accepted, Alapin variation\",\n",
        "    'D17-D19': \"Queen's Gambit Declined Slav, Czech defence\",\n",
        "    'D20-D29': \"Queen's gambit accepted\",\n",
        "    'D30-D42': \"Queen's gambit declined\",\n",
        "    'D43-D49': \"Queen's Gambit Declined semi-Slav\",\n",
        "    'D50-D69': \"Queen's Gambit Declined\",\n",
        "    'D70-D79': 'Neo-Gruenfeld defence',\n",
        "    'D80-D99': 'Gruenfeld defence',\n",
        "    'E00': \"Queen's pawn game\",\n",
        "    'E01-E09': 'Catalan, closed',\n",
        "    'E10': \"Queen's pawn game\",\n",
        "    'E11': 'Bogo-Indian defence',\n",
        "    'E12-E19': \"Queen's Indian defence\",\n",
        "    'E20-E59': 'Nimzo-Indian defence',\n",
        "    'E60-E99': \"King's Indian defence\"\n",
        "}\n",
        "\n",
        "\n",
        "def map_eco_to_grouped_label(eco_code):\n",
        "    for key, value in grouped_eco_labels.items():\n",
        "        if '-' in key:\n",
        "            start, end = key.split('-')\n",
        "            if start <= eco_code <= end:\n",
        "                return value\n",
        "        elif eco_code == key:\n",
        "            return value\n",
        "    return 'Other'\n",
        "\n",
        "data['grouped_opening'] = data['opening_eco'].apply(map_eco_to_grouped_label)\n",
        "\n",
        "def count_illegal_moves(moves):\n",
        "    board = chess.Board()\n",
        "    illegal_count = 0\n",
        "    for move in moves.split():\n",
        "        try:\n",
        "            board.push_san(move)\n",
        "        except:\n",
        "            illegal_count += 1\n",
        "            break\n",
        "    return illegal_count\n",
        "\n",
        "\n",
        "data['illegal_moves'] = data['moves'].apply(count_illegal_moves)\n",
        "illegal_moves_count = data['illegal_moves'].sum()\n",
        "print(f\"Total illegal moves detected: {illegal_moves_count}\")\n",
        "\n",
        "data = data[data['illegal_moves'] == 0]\n",
        "\n",
        "grouped_opening_counts = data['grouped_opening'].value_counts()\n",
        "\n",
        "valid_openings = grouped_opening_counts[grouped_opening_counts >= 10].index\n",
        "\n",
        "filtered_data = data[data['grouped_opening'].isin(valid_openings)]\n",
        "\n",
        "data = filtered_data"
      ]
    },
    {
      "cell_type": "code",
      "execution_count": 18,
      "metadata": {
        "id": "38VMcgfK9EBS"
      },
      "outputs": [],
      "source": [
        "tqdm.pandas()"
      ]
    },
    {
      "cell_type": "code",
      "execution_count": 19,
      "metadata": {
        "id": "pUkjgPoa9IVB"
      },
      "outputs": [],
      "source": [
        "def generate_5d_board_states(moves):\n",
        "    board = chess.Board()\n",
        "    piece_type_map = {'P': 0, 'N': 1, 'B': 2, 'R': 3, 'Q': 4, 'K': 5,\n",
        "                      'p': 0, 'n': 1, 'b': 2, 'r': 3, 'q': 4, 'k': 5}\n",
        "    board_states = []\n",
        "\n",
        "    for move in moves.split():\n",
        "        board.push_san(move)\n",
        "        board_state = np.zeros((8, 8, 6, 2))\n",
        "        for square in chess.SQUARES:\n",
        "            piece = board.piece_at(square)\n",
        "            if piece:\n",
        "                rank, file = chess.square_rank(square), chess.square_file(square)\n",
        "                piece_type = piece_type_map[str(piece)]\n",
        "                color = 1 if piece.color == chess.WHITE else 0\n",
        "                board_state[rank, file, piece_type, color] = 1\n",
        "        board_states.append(board_state)\n",
        "\n",
        "    return board_states\n"
      ]
    },
    {
      "cell_type": "code",
      "execution_count": 20,
      "metadata": {
        "id": "pkH9SROF9J-M"
      },
      "outputs": [],
      "source": [
        "def generate_4d_board_states(moves):\n",
        "    board = chess.Board()\n",
        "    piece_type_map = {'P': 0, 'N': 1, 'B': 2, 'R': 3, 'Q': 4, 'K': 5,\n",
        "                      'p': 6, 'n': 7, 'b': 8, 'r': 9, 'q': 10, 'k': 11}\n",
        "    board_states = []\n",
        "\n",
        "    for move in moves.split():\n",
        "        board.push_san(move)\n",
        "        board_state = np.zeros((8, 8, 12))\n",
        "        for square in chess.SQUARES:\n",
        "            piece = board.piece_at(square)\n",
        "            if piece:\n",
        "                rank, file = chess.square_rank(square), chess.square_file(square)\n",
        "                piece_type = piece_type_map[str(piece)]\n",
        "                board_state[rank, file, piece_type] = 1\n",
        "        board_states.append(board_state)\n",
        "\n",
        "    return board_states"
      ]
    },
    {
      "cell_type": "code",
      "execution_count": 21,
      "metadata": {
        "id": "0CM5orIM9R99"
      },
      "outputs": [],
      "source": [
        "def generate_3d_board_states(moves):\n",
        "    board = chess.Board()\n",
        "    board_states = []\n",
        "\n",
        "    for move in moves.split():\n",
        "        board.push_san(move)\n",
        "        board_state = np.zeros((32, 4))  \n",
        "        piece_count = 0\n",
        "        for square in chess.SQUARES:\n",
        "            piece = board.piece_at(square)\n",
        "            if piece:\n",
        "                rank, file = chess.square_rank(square), chess.square_file(square)\n",
        "                color = 1 if piece.color == chess.WHITE else 0\n",
        "                board_state[piece_count] = [rank, file, color, 1]  \n",
        "                piece_count += 1\n",
        "                if piece_count >= 32: \n",
        "                    break\n",
        "        board_states.append(board_state)\n",
        "\n",
        "    return board_states\n",
        "\n"
      ]
    },
    {
      "cell_type": "code",
      "execution_count": 22,
      "metadata": {
        "id": "0p-BGoFmC20r"
      },
      "outputs": [],
      "source": [
        "def evaluate_representation(X_train, X_test, y_train, y_test, label):\n",
        "    clf = RandomForestClassifier(random_state=42)\n",
        "    clf.fit(X_train, y_train)\n",
        "    y_pred = clf.predict(X_test)\n",
        "\n",
        "    accuracy = accuracy_score(y_test, y_pred)\n",
        "    f1 = f1_score(y_test, y_pred, average='weighted')\n",
        "\n",
        "    print(f'{label} Representation:')\n",
        "    print(f'Accuracy: {accuracy:.4f}')\n",
        "    print(f'F1-Score: {f1:.4f}\\n')\n"
      ]
    },
    {
      "cell_type": "code",
      "execution_count": 23,
      "metadata": {
        "id": "S1heJwKEGMo8"
      },
      "outputs": [],
      "source": [
        "N_samples = 5000"
      ]
    },
    {
      "cell_type": "code",
      "execution_count": 24,
      "metadata": {
        "id": "LW5lOhzoGeJm"
      },
      "outputs": [],
      "source": [
        "data_subset = data.iloc[:N_samples].copy()"
      ]
    },
    {
      "cell_type": "code",
      "execution_count": 13,
      "metadata": {
        "colab": {
          "base_uri": "https://localhost:8080/"
        },
        "id": "JcP_K4xk9UZr",
        "outputId": "608fd79c-75d6-499c-b311-72be941f2a59"
      },
      "outputs": [
        {
          "name": "stderr",
          "output_type": "stream",
          "text": [
            "100%|██████████| 5000/5000 [00:45<00:00, 108.82it/s]\n"
          ]
        }
      ],
      "source": [
        "# data_subset['board_states_5d'] = data_subset['moves'].progress_apply(generate_5d_board_states)\n"
      ]
    },
    {
      "cell_type": "code",
      "execution_count": 25,
      "metadata": {
        "id": "uv_2-vTKFgYL"
      },
      "outputs": [],
      "source": [
        "def flatten_board_states(board_states_column):\n",
        "    return np.array([state.flatten() for game in data_subset[board_states_column] for state in game])"
      ]
    },
    {
      "cell_type": "code",
      "execution_count": 15,
      "metadata": {
        "id": "x729yGq9Cc4j"
      },
      "outputs": [],
      "source": [
        "# X_5d = flatten_board_states('board_states_5d')"
      ]
    },
    {
      "cell_type": "code",
      "execution_count": 26,
      "metadata": {
        "id": "dNpaXkeeDb_y"
      },
      "outputs": [],
      "source": [
        "y = np.repeat(data_subset['grouped_opening'], data_subset['moves'].apply(lambda x: len(x.split())))"
      ]
    },
    {
      "cell_type": "code",
      "execution_count": 17,
      "metadata": {
        "id": "Rkeqqc4iCpco"
      },
      "outputs": [],
      "source": [
        "# X_train_5d, X_test_5d, y_train, y_test = train_test_split(X_5d, y, test_size=0.2, random_state=42)"
      ]
    },
    {
      "cell_type": "code",
      "execution_count": 18,
      "metadata": {
        "colab": {
          "base_uri": "https://localhost:8080/"
        },
        "id": "U685AC4FC4nh",
        "outputId": "a6f4b8c5-8572-4551-b22f-50597ea91516"
      },
      "outputs": [
        {
          "name": "stdout",
          "output_type": "stream",
          "text": [
            "5D Representation:\n",
            "Accuracy: 0.9551\n",
            "F1-Score: 0.9550\n",
            "\n"
          ]
        }
      ],
      "source": [
        "# evaluate_representation(X_train_5d, X_test_5d, y_train, y_test, '5D')"
      ]
    },
    {
      "cell_type": "code",
      "execution_count": 27,
      "metadata": {
        "colab": {
          "base_uri": "https://localhost:8080/"
        },
        "id": "tXuVaHZABU00",
        "outputId": "20d61495-b942-49bc-8338-178050dddedc"
      },
      "outputs": [
        {
          "name": "stderr",
          "output_type": "stream",
          "text": [
            "100%|██████████| 5000/5000 [01:03<00:00, 79.00it/s]\n"
          ]
        }
      ],
      "source": [
        "data_subset['board_states_4d'] = data_subset['moves'].progress_apply(generate_4d_board_states)\n"
      ]
    },
    {
      "cell_type": "code",
      "execution_count": 28,
      "metadata": {
        "id": "JiM85UsbCY5E"
      },
      "outputs": [],
      "source": [
        "X_4d = flatten_board_states('board_states_4d')"
      ]
    },
    {
      "cell_type": "code",
      "execution_count": 29,
      "metadata": {
        "id": "sqMknMP5Cq0u"
      },
      "outputs": [],
      "source": [
        "X_train_4d, X_test_4d, y_train, y_test  = train_test_split(X_4d, y, test_size=0.2, random_state=42)"
      ]
    },
    {
      "cell_type": "code",
      "execution_count": 15,
      "metadata": {
        "colab": {
          "base_uri": "https://localhost:8080/"
        },
        "id": "FD7oa_qSC6Q6",
        "outputId": "3c68cbe8-a700-4f4a-fd1a-3021b235e117"
      },
      "outputs": [
        {
          "name": "stdout",
          "output_type": "stream",
          "text": [
            "4D Representation:\n",
            "Accuracy: 0.9548\n",
            "F1-Score: 0.9548\n",
            "\n"
          ]
        }
      ],
      "source": [
        "# evaluate_representation(X_train_4d, X_test_4d, y_train, y_test, '4D')"
      ]
    },
    {
      "cell_type": "code",
      "execution_count": 12,
      "metadata": {
        "colab": {
          "base_uri": "https://localhost:8080/"
        },
        "id": "WZeVYhQSAs3T",
        "outputId": "123cb5e5-1b7f-490c-dacf-e636e45c1a79"
      },
      "outputs": [
        {
          "name": "stderr",
          "output_type": "stream",
          "text": [
            "100%|██████████| 5000/5000 [00:36<00:00, 135.97it/s]\n"
          ]
        }
      ],
      "source": [
        "# data_subset['board_states_3d'] = data_subset['moves'].progress_apply(generate_3d_board_states)"
      ]
    },
    {
      "cell_type": "code",
      "execution_count": 13,
      "metadata": {
        "id": "lnmKwEwOCZs5"
      },
      "outputs": [],
      "source": [
        "# X_3d = flatten_board_states('board_states_3d')"
      ]
    },
    {
      "cell_type": "code",
      "execution_count": 14,
      "metadata": {
        "id": "w0uTS53fCuxB"
      },
      "outputs": [],
      "source": [
        "# X_train_3d, X_test_3d, y_train, y_test = train_test_split(X_3d, y, test_size=0.2, random_state=42)"
      ]
    },
    {
      "cell_type": "code",
      "execution_count": 15,
      "metadata": {
        "colab": {
          "base_uri": "https://localhost:8080/"
        },
        "id": "42vGqT68C8mS",
        "outputId": "d1573c81-4944-438e-8f10-3f4e16fd9e20"
      },
      "outputs": [
        {
          "name": "stdout",
          "output_type": "stream",
          "text": [
            "3D Representation:\n",
            "Accuracy: 0.7949\n",
            "F1-Score: 0.7960\n",
            "\n"
          ]
        }
      ],
      "source": [
        "# evaluate_representation(X_train_3d, X_test_3d, y_train, y_test, '3D')"
      ]
    },
    {
      "cell_type": "code",
      "execution_count": 34,
      "metadata": {
        "id": "MuUfM0BIHDSC"
      },
      "outputs": [],
      "source": [
        "label_encoder = LabelEncoder()\n",
        "y_encoded = label_encoder.fit_transform(y)\n",
        "\n",
        "pca = PCA(n_components=4)\n",
        "X_4d_pca = pca.fit_transform(X_4d)\n",
        "\n",
        "explained_variance_ratio = pca.explained_variance_ratio_\n",
        "cumulative_explained_variance = np.cumsum(explained_variance_ratio)"
      ]
    },
    {
      "cell_type": "code",
      "execution_count": 35,
      "metadata": {
        "colab": {
          "base_uri": "https://localhost:8080/",
          "height": 562
        },
        "id": "ONhQau2UIVAg",
        "outputId": "62bea928-0fab-4826-ac1c-21cd8fc26703"
      },
      "outputs": [
        {
          "name": "stdout",
          "output_type": "stream",
          "text": [
            "Explained variance ratio by each component: [0.17638296 0.04426476 0.02828636 0.02193378]\n",
            "Cumulative explained variance: [0.17638296 0.22064772 0.24893408 0.27086786]\n"
          ]
        },
        {
          "data": {
            "image/png": "[encoded data removed]",
            "text/plain": [
              "<Figure size 800x600 with 1 Axes>"
            ]
          },
          "metadata": {},
          "output_type": "display_data"
        }
      ],
      "source": [
        "print(f'Explained variance ratio by each component: {explained_variance_ratio}')\n",
        "print(f'Cumulative explained variance: {cumulative_explained_variance}')\n",
        "\n",
        "plt.figure(figsize=(8, 6))\n",
        "plt.plot(range(1, len(explained_variance_ratio) + 1), cumulative_explained_variance, marker='o', linestyle='--')\n",
        "plt.xlabel('Number of Components')\n",
        "plt.ylabel('Cumulative Explained Variance')\n",
        "plt.title('Explained Variance vs. Number of Components')\n",
        "plt.grid()\n",
        "plt.show()"
      ]
    },
    {
      "cell_type": "code",
      "execution_count": null,
      "metadata": {
        "id": "3NbUhN_7IWu6"
      },
      "outputs": [],
      "source": []
    }
  ],
  "metadata": {
    "accelerator": "GPU",
    "colab": {
      "gpuType": "T4",
      "provenance": []
    },
    "kernelspec": {
      "display_name": "Python 3",
      "name": "python3"
    },
    "language_info": {
      "name": "python",
      "version": "3.10.12"
    }
  },
  "nbformat": 4,
  "nbformat_minor": 0
}
