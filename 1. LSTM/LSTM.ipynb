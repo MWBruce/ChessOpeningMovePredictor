{
 "cells": [
  {
   "cell_type": "markdown",
   "metadata": {},
   "source": [
    "# Dataset"
   ]
  },
  {
   "cell_type": "code",
   "execution_count": 1,
   "metadata": {},
   "outputs": [
    {
     "name": "stdout",
     "output_type": "stream",
     "text": [
      "Dataset URL: https://www.kaggle.com/datasets/datasnaek/chess\n"
     ]
    }
   ],
   "source": [
    "from kaggle.api.kaggle_api_extended import KaggleApi\n",
    "\n",
    "# Instantiate the Kaggle API\n",
    "api = KaggleApi()\n",
    "\n",
    "# Download the dataset\n",
    "api.dataset_download_files('datasnaek/chess', path='../data', unzip=True)"
   ]
  },
  {
   "cell_type": "code",
   "execution_count": 2,
   "metadata": {},
   "outputs": [
    {
     "name": "stdout",
     "output_type": "stream",
     "text": [
      "20058\n"
     ]
    }
   ],
   "source": [
    "import pandas as pd \n",
    "\n",
    "data = pd.read_csv('../data/games.csv')\n",
    "print(len(data))"
   ]
  },
  {
   "cell_type": "code",
   "execution_count": 3,
   "metadata": {},
   "outputs": [
    {
     "name": "stdout",
     "output_type": "stream",
     "text": [
      "1212827\n"
     ]
    }
   ],
   "source": [
    "data['moves_split'] = data['moves'].str.split()\n",
    "data['moves_length'] = data['moves_split'].apply(len)\n",
    "total_length = data['moves_length'].sum()\n",
    "print(total_length)"
   ]
  },
  {
   "cell_type": "code",
   "execution_count": 4,
   "metadata": {},
   "outputs": [
    {
     "data": {
      "text/html": [
       "<div>\n",
       "<style scoped>\n",
       "    .dataframe tbody tr th:only-of-type {\n",
       "        vertical-align: middle;\n",
       "    }\n",
       "\n",
       "    .dataframe tbody tr th {\n",
       "        vertical-align: top;\n",
       "    }\n",
       "\n",
       "    .dataframe thead th {\n",
       "        text-align: right;\n",
       "    }\n",
       "</style>\n",
       "<table border=\"1\" class=\"dataframe\">\n",
       "  <thead>\n",
       "    <tr style=\"text-align: right;\">\n",
       "      <th></th>\n",
       "      <th>id</th>\n",
       "      <th>rated</th>\n",
       "      <th>created_at</th>\n",
       "      <th>last_move_at</th>\n",
       "      <th>turns</th>\n",
       "      <th>victory_status</th>\n",
       "      <th>winner</th>\n",
       "      <th>increment_code</th>\n",
       "      <th>white_id</th>\n",
       "      <th>white_rating</th>\n",
       "      <th>black_id</th>\n",
       "      <th>black_rating</th>\n",
       "      <th>moves</th>\n",
       "      <th>opening_eco</th>\n",
       "      <th>opening_name</th>\n",
       "      <th>opening_ply</th>\n",
       "      <th>moves_split</th>\n",
       "      <th>moves_length</th>\n",
       "    </tr>\n",
       "  </thead>\n",
       "  <tbody>\n",
       "    <tr>\n",
       "      <th>0</th>\n",
       "      <td>TZJHLljE</td>\n",
       "      <td>False</td>\n",
       "      <td>1.504210e+12</td>\n",
       "      <td>1.504210e+12</td>\n",
       "      <td>13</td>\n",
       "      <td>outoftime</td>\n",
       "      <td>white</td>\n",
       "      <td>15+2</td>\n",
       "      <td>bourgris</td>\n",
       "      <td>1500</td>\n",
       "      <td>a-00</td>\n",
       "      <td>1191</td>\n",
       "      <td>d4 d5 c4 c6 cxd5 e6 dxe6 fxe6 Nf3 Bb4+ Nc3 Ba5...</td>\n",
       "      <td>D10</td>\n",
       "      <td>Slav Defense: Exchange Variation</td>\n",
       "      <td>5</td>\n",
       "      <td>[d4, d5, c4, c6, cxd5, e6, dxe6, fxe6, Nf3, Bb...</td>\n",
       "      <td>13</td>\n",
       "    </tr>\n",
       "  </tbody>\n",
       "</table>\n",
       "</div>"
      ],
      "text/plain": [
       "         id  rated    created_at  last_move_at  turns victory_status winner  \\\n",
       "0  TZJHLljE  False  1.504210e+12  1.504210e+12     13      outoftime  white   \n",
       "\n",
       "  increment_code  white_id  white_rating black_id  black_rating  \\\n",
       "0           15+2  bourgris          1500     a-00          1191   \n",
       "\n",
       "                                               moves opening_eco  \\\n",
       "0  d4 d5 c4 c6 cxd5 e6 dxe6 fxe6 Nf3 Bb4+ Nc3 Ba5...         D10   \n",
       "\n",
       "                       opening_name  opening_ply  \\\n",
       "0  Slav Defense: Exchange Variation            5   \n",
       "\n",
       "                                         moves_split  moves_length  \n",
       "0  [d4, d5, c4, c6, cxd5, e6, dxe6, fxe6, Nf3, Bb...            13  "
      ]
     },
     "execution_count": 4,
     "metadata": {},
     "output_type": "execute_result"
    }
   ],
   "source": [
    "data.head(1)"
   ]
  },
  {
   "cell_type": "markdown",
   "metadata": {},
   "source": [
    "# Preprocessing"
   ]
  },
  {
   "cell_type": "markdown",
   "metadata": {},
   "source": [
    "## ECO Grouping"
   ]
  },
  {
   "cell_type": "code",
   "execution_count": 5,
   "metadata": {},
   "outputs": [],
   "source": [
    "grouped_eco_labels = {\n",
    "    'A00': 'Polish (Sokolsky) opening',\n",
    "    'A01': 'Nimzovich-Larsen attack',\n",
    "    'A02-A03': \"Bird's opening\",\n",
    "    'A04-A09': 'Reti opening',\n",
    "    'A10-A39': 'English opening',\n",
    "    'A40-A41': \"Queen's pawn\",\n",
    "    'A42': 'Modern defence, Averbakh system',\n",
    "    'A43-A44': 'Old Benoni defence',\n",
    "    'A45-A46': \"Queen's pawn game\",\n",
    "    'A47': \"Queen's Indian defence\",\n",
    "    'A48-A49': \"King's Indian, East Indian defence\",\n",
    "    'A50': \"Queen's pawn game\",\n",
    "    'A51-A52': 'Budapest defence',\n",
    "    'A53-A55': 'Old Indian defence',\n",
    "    'A56': 'Benoni defence',\n",
    "    'A57-A59': 'Benko gambit',\n",
    "    'A60-A79': 'Benoni defence',\n",
    "    'A80-A99': 'Dutch',\n",
    "    'B00': \"King's pawn opening\",\n",
    "    'B01': 'Scandinavian (centre counter) defence',\n",
    "    'B02-B05': \"Alekhine's defence\",\n",
    "    'B06': 'Robatsch (modern) defence',\n",
    "    'B07-B09': 'Pirc defence',\n",
    "    'B10-B19': 'Caro-Kann defence',\n",
    "    'B20-B99': 'Sicilian defence',\n",
    "    'C00-C19': 'French defence',\n",
    "    'C20': \"King's pawn game\",\n",
    "    'C21-C22': 'Centre game',\n",
    "    'C23-C24': \"Bishop's opening\",\n",
    "    'C25-C29': 'Vienna game',\n",
    "    'C30-C39': \"King's gambit\",\n",
    "    'C40': \"King's knight opening\",\n",
    "    'C41': \"Philidor's defence\",\n",
    "    'C42-C43': \"Petrov's defence\",\n",
    "    'C44': \"King's pawn game\",\n",
    "    'C45': \"Scotch game\",\n",
    "    'C46': \"Three knights game\",\n",
    "    'C47-C49': \"Four knights, Scotch variation\",\n",
    "    'C50': \"Italian Game\",\n",
    "    'C51-C52': \"Evans gambit\",\n",
    "    'C53-C54': \"Giuoco Piano\",\n",
    "    'C55-C59': \"Two knights defence\",\n",
    "    'C60-C99': \"Ruy Lopez (Spanish opening)\",\n",
    "    'D00': \"Queen's pawn game\",\n",
    "    'D01': 'Richter-Veresov attack',\n",
    "    'D02': \"Queen's pawn game\",\n",
    "    'D03': 'Torre attack (Tartakower variation)',\n",
    "    'D04-D05': \"Queen's pawn game\",\n",
    "    'D06': \"Queen's Gambit\",\n",
    "    'D07-D09': \"Queen's Gambit Declined, Chigorin defence\",\n",
    "    'D10-D15': \"Queen's Gambit Declined Slav defence\",\n",
    "    'D16': \"Queen's Gambit Declined Slav accepted, Alapin variation\",\n",
    "    'D17-D19': \"Queen's Gambit Declined Slav, Czech defence\",\n",
    "    'D20-D29': \"Queen's gambit accepted\",\n",
    "    'D30-D42': \"Queen's gambit declined\",\n",
    "    'D43-D49': \"Queen's Gambit Declined semi-Slav\",\n",
    "    'D50-D69': \"Queen's Gambit Declined\",\n",
    "    'D70-D79': 'Neo-Gruenfeld defence',\n",
    "    'D80-D99': 'Gruenfeld defence',\n",
    "    'E00': \"Queen's pawn game\",\n",
    "    'E01-E09': 'Catalan, closed',\n",
    "    'E10': \"Queen's pawn game\",\n",
    "    'E11': 'Bogo-Indian defence',\n",
    "    'E12-E19': \"Queen's Indian defence\",\n",
    "    'E20-E59': 'Nimzo-Indian defence',\n",
    "    'E60-E99': \"King's Indian defence\"\n",
    "}"
   ]
  },
  {
   "cell_type": "code",
   "execution_count": 6,
   "metadata": {},
   "outputs": [],
   "source": [
    "def map_eco_to_grouped_label(eco_code):\n",
    "    for key, value in grouped_eco_labels.items():\n",
    "        if '-' in key:\n",
    "            start, end = key.split('-')\n",
    "            if start <= eco_code <= end:\n",
    "                return value\n",
    "        elif eco_code == key:\n",
    "            return value\n",
    "    return 'Other'\n",
    "\n",
    "data['grouped_opening'] = data['opening_eco'].apply(map_eco_to_grouped_label)"
   ]
  },
  {
   "cell_type": "markdown",
   "metadata": {},
   "source": [
    "## llegal Moves Check"
   ]
  },
  {
   "cell_type": "code",
   "execution_count": 7,
   "metadata": {},
   "outputs": [
    {
     "name": "stdout",
     "output_type": "stream",
     "text": [
      "Total illegal moves detected: 0\n"
     ]
    }
   ],
   "source": [
    "import chess\n",
    "\n",
    "def count_illegal_moves(moves):\n",
    "    board = chess.Board()\n",
    "    illegal_count = 0\n",
    "    for move in moves.split():\n",
    "        try:\n",
    "            board.push_san(move)\n",
    "        except:\n",
    "            illegal_count += 1\n",
    "            break\n",
    "    return illegal_count\n",
    "\n",
    "\n",
    "data['illegal_moves'] = data['moves'].apply(count_illegal_moves)\n",
    "illegal_moves_count = data['illegal_moves'].sum()\n",
    "print(f\"Total illegal moves detected: {illegal_moves_count}\")"
   ]
  },
  {
   "cell_type": "markdown",
   "metadata": {},
   "source": [
    "## Filter Dataset\n",
    "- Illegal Moves\n",
    "- Less than 10 Opening Moves Occuring"
   ]
  },
  {
   "cell_type": "code",
   "execution_count": 8,
   "metadata": {},
   "outputs": [],
   "source": [
    "data = data[data['illegal_moves'] == 0]\n",
    "\n",
    "grouped_opening_counts = data['grouped_opening'].value_counts()\n",
    "\n",
    "valid_openings = grouped_opening_counts[grouped_opening_counts >= 10].index\n",
    "\n",
    "filtered_data = data[data['grouped_opening'].isin(valid_openings)]\n",
    "\n",
    "data = filtered_data"
   ]
  },
  {
   "cell_type": "markdown",
   "metadata": {},
   "source": [
    "## Generate 4D Board States"
   ]
  },
  {
   "cell_type": "code",
   "execution_count": 9,
   "metadata": {},
   "outputs": [
    {
     "name": "stderr",
     "output_type": "stream",
     "text": [
      "100%|██████████| 20033/20033 [00:42<00:00, 468.13it/s]\n"
     ]
    }
   ],
   "source": [
    "import numpy as np\n",
    "from tqdm import tqdm\n",
    "tqdm.pandas()\n",
    "\n",
    "def generate_4d_board_states(moves):\n",
    "    board = chess.Board()\n",
    "    piece_type_map = {'P': 0, 'N': 1, 'B': 2, 'R': 3, 'Q': 4, 'K': 5,\n",
    "                      'p': 6, 'n': 7, 'b': 8, 'r': 9, 'q': 10, 'k': 11}\n",
    "    board_states = []\n",
    "\n",
    "    for move in moves.split():\n",
    "        board.push_san(move)\n",
    "        board_state = np.zeros((8, 8, 12))\n",
    "        for square in chess.SQUARES:\n",
    "            piece = board.piece_at(square)\n",
    "            if piece:\n",
    "                rank, file = chess.square_rank(square), chess.square_file(square)\n",
    "                piece_type = piece_type_map[str(piece)]\n",
    "                board_state[rank, file, piece_type] = 1\n",
    "        board_states.append(board_state)\n",
    "\n",
    "    return board_states\n",
    "\n",
    "data['board_states_4d'] = data['moves'].progress_apply(generate_4d_board_states)"
   ]
  },
  {
   "cell_type": "code",
   "execution_count": 10,
   "metadata": {},
   "outputs": [
    {
     "data": {
      "text/html": [
       "<div>\n",
       "<style scoped>\n",
       "    .dataframe tbody tr th:only-of-type {\n",
       "        vertical-align: middle;\n",
       "    }\n",
       "\n",
       "    .dataframe tbody tr th {\n",
       "        vertical-align: top;\n",
       "    }\n",
       "\n",
       "    .dataframe thead th {\n",
       "        text-align: right;\n",
       "    }\n",
       "</style>\n",
       "<table border=\"1\" class=\"dataframe\">\n",
       "  <thead>\n",
       "    <tr style=\"text-align: right;\">\n",
       "      <th></th>\n",
       "      <th>id</th>\n",
       "      <th>rated</th>\n",
       "      <th>created_at</th>\n",
       "      <th>last_move_at</th>\n",
       "      <th>turns</th>\n",
       "      <th>victory_status</th>\n",
       "      <th>winner</th>\n",
       "      <th>increment_code</th>\n",
       "      <th>white_id</th>\n",
       "      <th>white_rating</th>\n",
       "      <th>...</th>\n",
       "      <th>black_rating</th>\n",
       "      <th>moves</th>\n",
       "      <th>opening_eco</th>\n",
       "      <th>opening_name</th>\n",
       "      <th>opening_ply</th>\n",
       "      <th>moves_split</th>\n",
       "      <th>moves_length</th>\n",
       "      <th>grouped_opening</th>\n",
       "      <th>illegal_moves</th>\n",
       "      <th>board_states_4d</th>\n",
       "    </tr>\n",
       "  </thead>\n",
       "  <tbody>\n",
       "    <tr>\n",
       "      <th>0</th>\n",
       "      <td>TZJHLljE</td>\n",
       "      <td>False</td>\n",
       "      <td>1.504210e+12</td>\n",
       "      <td>1.504210e+12</td>\n",
       "      <td>13</td>\n",
       "      <td>outoftime</td>\n",
       "      <td>white</td>\n",
       "      <td>15+2</td>\n",
       "      <td>bourgris</td>\n",
       "      <td>1500</td>\n",
       "      <td>...</td>\n",
       "      <td>1191</td>\n",
       "      <td>d4 d5 c4 c6 cxd5 e6 dxe6 fxe6 Nf3 Bb4+ Nc3 Ba5...</td>\n",
       "      <td>D10</td>\n",
       "      <td>Slav Defense: Exchange Variation</td>\n",
       "      <td>5</td>\n",
       "      <td>[d4, d5, c4, c6, cxd5, e6, dxe6, fxe6, Nf3, Bb...</td>\n",
       "      <td>13</td>\n",
       "      <td>Queen's Gambit Declined Slav defence</td>\n",
       "      <td>0</td>\n",
       "      <td>[[[[0. 0. 0. 1. 0. 0. 0. 0. 0. 0. 0. 0.], [0. ...</td>\n",
       "    </tr>\n",
       "  </tbody>\n",
       "</table>\n",
       "<p>1 rows × 21 columns</p>\n",
       "</div>"
      ],
      "text/plain": [
       "         id  rated    created_at  last_move_at  turns victory_status winner  \\\n",
       "0  TZJHLljE  False  1.504210e+12  1.504210e+12     13      outoftime  white   \n",
       "\n",
       "  increment_code  white_id  white_rating  ... black_rating  \\\n",
       "0           15+2  bourgris          1500  ...         1191   \n",
       "\n",
       "                                               moves opening_eco  \\\n",
       "0  d4 d5 c4 c6 cxd5 e6 dxe6 fxe6 Nf3 Bb4+ Nc3 Ba5...         D10   \n",
       "\n",
       "                       opening_name opening_ply  \\\n",
       "0  Slav Defense: Exchange Variation           5   \n",
       "\n",
       "                                         moves_split moves_length  \\\n",
       "0  [d4, d5, c4, c6, cxd5, e6, dxe6, fxe6, Nf3, Bb...           13   \n",
       "\n",
       "                        grouped_opening illegal_moves  \\\n",
       "0  Queen's Gambit Declined Slav defence             0   \n",
       "\n",
       "                                     board_states_4d  \n",
       "0  [[[[0. 0. 0. 1. 0. 0. 0. 0. 0. 0. 0. 0.], [0. ...  \n",
       "\n",
       "[1 rows x 21 columns]"
      ]
     },
     "execution_count": 10,
     "metadata": {},
     "output_type": "execute_result"
    }
   ],
   "source": [
    "data.head(1)"
   ]
  },
  {
   "cell_type": "markdown",
   "metadata": {},
   "source": [
    "# Write to pickle"
   ]
  },
  {
   "cell_type": "code",
   "execution_count": 11,
   "metadata": {},
   "outputs": [],
   "source": [
    "import pickle\n",
    "import os\n",
    "\n",
    "reduced_data = data[['moves','moves_length','board_states_4d', 'grouped_opening']]\n",
    "\n",
    "# Create the directory if it doesn't exist\n",
    "os.makedirs('./data', exist_ok=True)\n",
    "\n",
    "# Save the reduced_data dataframe as a pickle file\n",
    "with open('./data/reduced_data.pkl', 'wb') as f:\n",
    "    pickle.dump(reduced_data, f)"
   ]
  },
  {
   "cell_type": "code",
   "execution_count": 12,
   "metadata": {},
   "outputs": [
    {
     "data": {
      "text/plain": [
       "0"
      ]
     },
     "execution_count": 12,
     "metadata": {},
     "output_type": "execute_result"
    }
   ],
   "source": [
    "import gc\n",
    "\n",
    "del data\n",
    "del filtered_data\n",
    "del reduced_data\n",
    "\n",
    "gc.collect()"
   ]
  },
  {
   "cell_type": "markdown",
   "metadata": {},
   "source": [
    "# Load Pickle"
   ]
  },
  {
   "cell_type": "code",
   "execution_count": 1,
   "metadata": {},
   "outputs": [],
   "source": [
    "import pickle\n",
    "\n",
    "# Load the pickle file\n",
    "with open('./data/reduced_data.pkl', 'rb') as f:\n",
    "    reduced_data_loaded = pickle.load(f)\n",
    "\n",
    "# Print the loaded data\n",
    "reduced_data_loaded.head(5)\n",
    "reduced_data_loaded = reduced_data_loaded.head(2000)"
   ]
  },
  {
   "cell_type": "code",
   "execution_count": 2,
   "metadata": {},
   "outputs": [
    {
     "name": "stdout",
     "output_type": "stream",
     "text": [
      "2000\n"
     ]
    }
   ],
   "source": [
    "print(len(reduced_data_loaded))"
   ]
  },
  {
   "cell_type": "code",
   "execution_count": 3,
   "metadata": {},
   "outputs": [
    {
     "name": "stdout",
     "output_type": "stream",
     "text": [
      "13\n",
      "(8, 8, 12)\n"
     ]
    }
   ],
   "source": [
    "print(len(reduced_data_loaded['board_states_4d'][0]))\n",
    "print(reduced_data_loaded['board_states_4d'][0][0].shape)"
   ]
  },
  {
   "cell_type": "markdown",
   "metadata": {},
   "source": [
    "# Flatten 4D Board States"
   ]
  },
  {
   "cell_type": "code",
   "execution_count": 4,
   "metadata": {},
   "outputs": [],
   "source": [
    "import numpy as np\n",
    "\n",
    "def convert_board_states(row):\n",
    "    board_states = np.array(row['board_states_4d'])\n",
    "    assert board_states.shape == (row['moves_length'], 8, 8, 12), \"Shape mismatch\"\n",
    "    return board_states\n",
    "\n",
    "# Apply the conversion function\n",
    "reduced_data_loaded['board_states_array'] = reduced_data_loaded.apply(convert_board_states, axis=1)"
   ]
  },
  {
   "cell_type": "code",
   "execution_count": 11,
   "metadata": {},
   "outputs": [],
   "source": [
    "from sklearn.preprocessing import LabelEncoder\n",
    "\n",
    "X = reduced_data_loaded['board_states_array'].values\n",
    "y = reduced_data_loaded['grouped_opening'].values\n",
    "\n",
    "# Initialize the LabelEncoder\n",
    "label_encoder = LabelEncoder()\n",
    "\n",
    "# Fit and transform the labels\n",
    "y_encoded = label_encoder.fit_transform(y)\n",
    "\n",
    "# Convert to a numpy array of type float32 (or int64, depending on your use case)\n",
    "y_encoded = np.array(y_encoded, dtype=np.float32)"
   ]
  },
  {
   "cell_type": "markdown",
   "metadata": {},
   "source": [
    "# Converting to Torch"
   ]
  },
  {
   "cell_type": "markdown",
   "metadata": {},
   "source": [
    "## Dataset"
   ]
  },
  {
   "cell_type": "code",
   "execution_count": 15,
   "metadata": {},
   "outputs": [],
   "source": [
    "import torch\n",
    "from torch.utils.data import Dataset, DataLoader\n",
    "from sklearn.model_selection import train_test_split\n",
    "\n",
    "class ChessDataset4D(Dataset):\n",
    "    def __init__(self, X, y):\n",
    "        # Convert X from numpy objects to list of tensors\n",
    "        self.X = [torch.tensor(x, dtype=torch.float32).view(-1, 8 * 8 * 12) for x in X]\n",
    "        self.y = torch.tensor(y, dtype=torch.float32)\n",
    "        \n",
    "    def __len__(self):\n",
    "        return len(self.X)\n",
    "    \n",
    "    def __getitem__(self, idx):\n",
    "        return self.X[idx], self.y[idx]\n",
    "    \n",
    "def collate_fn(batch):\n",
    "    X_batch, y_batch = zip(*batch)\n",
    "    X_batch = torch.nn.utils.rnn.pad_sequence([torch.tensor(x, dtype=torch.float32) for x in X_batch], batch_first=True)\n",
    "    y_batch = torch.stack([torch.tensor(y, dtype=torch.float32) for y in y_batch])\n",
    "    return X_batch, y_batch\n",
    "\n",
    "# Assuming X and y_encoded are your full dataset\n",
    "# Split the data into training and testing sets\n",
    "X_train, X_test, y_train, y_test = train_test_split(X, y_encoded, test_size=0.2, random_state=42)\n",
    "\n",
    "# Convert the splits into datasets and dataloaders\n",
    "train_dataset = ChessDataset4D(X_train, y_train)\n",
    "test_dataset = ChessDataset4D(X_test, y_test)\n",
    "\n",
    "train_dataloader = DataLoader(train_dataset, batch_size=32, collate_fn=collate_fn, shuffle=True)\n",
    "test_dataloader = DataLoader(test_dataset, batch_size=32, collate_fn=collate_fn)\n"
   ]
  },
  {
   "cell_type": "markdown",
   "metadata": {},
   "source": [
    "## Model"
   ]
  },
  {
   "cell_type": "code",
   "execution_count": 16,
   "metadata": {},
   "outputs": [],
   "source": [
    "import torch.nn as nn\n",
    "\n",
    "class LSTMModel(nn.Module):\n",
    "    def __init__(self, input_size, hidden_size, output_size, num_layers=1):\n",
    "        super(LSTMModel, self).__init__()\n",
    "        self.lstm = nn.LSTM(input_size=input_size, hidden_size=hidden_size, num_layers=num_layers, batch_first=True)\n",
    "        self.fc = nn.Linear(hidden_size, output_size)\n",
    "        \n",
    "    def forward(self, x):\n",
    "        # x: (batch_size, sequence_length, input_size)\n",
    "        packed_x = nn.utils.rnn.pack_padded_sequence(x, lengths=[len(seq) for seq in x], batch_first=True, enforce_sorted=False)\n",
    "        lstm_out, _ = self.lstm(packed_x)\n",
    "        unpacked_x, _ = nn.utils.rnn.pad_packed_sequence(lstm_out, batch_first=True)\n",
    "        out = self.fc(unpacked_x[:, -1, :])\n",
    "        return out\n",
    "\n",
    "# Number of classes (unique labels)\n",
    "num_classes = len(np.unique(y_encoded))\n",
    "\n",
    "# Define parameters\n",
    "input_size = 8 * 8 * 12  # Flattened size of (8, 8, 12)\n",
    "hidden_size = 128\n",
    "output_size = num_classes  # Number of classes\n",
    "\n",
    "model = LSTMModel(input_size=input_size, hidden_size=hidden_size, output_size=output_size)"
   ]
  },
  {
   "cell_type": "markdown",
   "metadata": {},
   "source": [
    "## Training"
   ]
  },
  {
   "cell_type": "code",
   "execution_count": 17,
   "metadata": {},
   "outputs": [
    {
     "name": "stderr",
     "output_type": "stream",
     "text": [
      "/tmp/ipykernel_1469/2640675464.py:19: UserWarning: To copy construct from a tensor, it is recommended to use sourceTensor.clone().detach() or sourceTensor.clone().detach().requires_grad_(True), rather than torch.tensor(sourceTensor).\n",
      "  X_batch = torch.nn.utils.rnn.pad_sequence([torch.tensor(x, dtype=torch.float32) for x in X_batch], batch_first=True)\n",
      "/tmp/ipykernel_1469/2640675464.py:20: UserWarning: To copy construct from a tensor, it is recommended to use sourceTensor.clone().detach() or sourceTensor.clone().detach().requires_grad_(True), rather than torch.tensor(sourceTensor).\n",
      "  y_batch = torch.stack([torch.tensor(y, dtype=torch.float32) for y in y_batch])\n"
     ]
    },
    {
     "name": "stdout",
     "output_type": "stream",
     "text": [
      "Epoch [1/10], Loss: 3.2785\n",
      "Epoch [2/10], Loss: 3.3040\n",
      "Epoch [3/10], Loss: 3.3067\n",
      "Epoch [4/10], Loss: 3.3455\n",
      "Epoch [5/10], Loss: 3.1915\n",
      "Epoch [6/10], Loss: 3.5314\n",
      "Epoch [7/10], Loss: 3.5056\n",
      "Epoch [8/10], Loss: 3.3867\n",
      "Epoch [9/10], Loss: 3.0815\n",
      "Epoch [10/10], Loss: 3.2758\n"
     ]
    }
   ],
   "source": [
    "import torch.optim as optim\n",
    "\n",
    "# Define loss function and optimizer\n",
    "criterion = nn.CrossEntropyLoss()  # For classification tasks\n",
    "optimizer = optim.Adam(model.parameters(), lr=0.001)\n",
    "\n",
    "# Training loop\n",
    "num_epochs = 10\n",
    "\n",
    "for epoch in range(num_epochs):\n",
    "    for batch_X, batch_y in train_dataloader:\n",
    "        # Forward pass\n",
    "        outputs = model(batch_X)\n",
    "        loss = criterion(outputs, batch_y.long())  # CrossEntropyLoss expects target as long type\n",
    "        \n",
    "        # Backward and optimize\n",
    "        optimizer.zero_grad()\n",
    "        loss.backward()\n",
    "        optimizer.step()\n",
    "    \n",
    "    print(f'Epoch [{epoch+1}/{num_epochs}], Loss: {loss.item():.4f}')"
   ]
  },
  {
   "cell_type": "code",
   "execution_count": 18,
   "metadata": {},
   "outputs": [
    {
     "name": "stderr",
     "output_type": "stream",
     "text": [
      "/tmp/ipykernel_1469/2640675464.py:19: UserWarning: To copy construct from a tensor, it is recommended to use sourceTensor.clone().detach() or sourceTensor.clone().detach().requires_grad_(True), rather than torch.tensor(sourceTensor).\n",
      "  X_batch = torch.nn.utils.rnn.pad_sequence([torch.tensor(x, dtype=torch.float32) for x in X_batch], batch_first=True)\n",
      "/tmp/ipykernel_1469/2640675464.py:20: UserWarning: To copy construct from a tensor, it is recommended to use sourceTensor.clone().detach() or sourceTensor.clone().detach().requires_grad_(True), rather than torch.tensor(sourceTensor).\n",
      "  y_batch = torch.stack([torch.tensor(y, dtype=torch.float32) for y in y_batch])\n"
     ]
    },
    {
     "name": "stdout",
     "output_type": "stream",
     "text": [
      "Accuracy on test data: 13.00%\n"
     ]
    }
   ],
   "source": [
    "def evaluate_model(model, dataloader):\n",
    "    model.eval()  # Set the model to evaluation mode\n",
    "    correct = 0\n",
    "    total = 0\n",
    "    with torch.no_grad():  # Disable gradient computation\n",
    "        for batch_X, batch_y in dataloader:\n",
    "            outputs = model(batch_X)\n",
    "            _, predicted = torch.max(outputs, 1)  # Get the index of the max log-probability\n",
    "            total += batch_y.size(0)\n",
    "            correct += (predicted == batch_y.long()).sum().item()\n",
    "    accuracy = 100 * correct / total\n",
    "    return accuracy\n",
    "\n",
    "# Evaluate the model\n",
    "accuracy = evaluate_model(model, test_dataloader)\n",
    "print(f'Accuracy on test data: {accuracy:.2f}%')"
   ]
  },
  {
   "cell_type": "markdown",
   "metadata": {},
   "source": [
    "# Old"
   ]
  },
  {
   "cell_type": "code",
   "execution_count": null,
   "metadata": {},
   "outputs": [],
   "source": [
    "import numpy as np\n",
    "\n",
    "def flatten_board_states_to_disk(df, board_states_column, output_file, batch_size=1000):\n",
    "    with open(output_file, 'wb') as f:\n",
    "        for i in range(0, len(df), batch_size):\n",
    "            batch = df[board_states_column][i:i+batch_size]\n",
    "            flattened_batch = np.array([state.flatten() for game in batch for state in game])\n",
    "            np.save(f, flattened_batch)\n",
    "\n",
    "\n",
    "flatten_board_states_to_disk(reduced_data_loaded, 'board_states_4d', './data/flattened_states.npy')\n",
    "X_4d = np.load('./data/flattened_states.npy')"
   ]
  },
  {
   "cell_type": "code",
   "execution_count": null,
   "metadata": {},
   "outputs": [],
   "source": [
    "def flatten_board_states_to_disk(df, board_states_column, output_file, batch_size=1000):\n",
    "    for i in range(0, len(df), batch_size):\n",
    "        batch = df[board_states_column][i:i+batch_size]\n",
    "        flattened_batch = np.array([state.flatten() for game in batch for state in game])\n",
    "        \n",
    "        if i == 0:\n",
    "            # If this is the first batch, create a new file\n",
    "            np.save(output_file, flattened_batch)\n",
    "        else:\n",
    "            # Append the new batch to the existing file\n",
    "            with open(output_file, 'ab') as f:  # 'ab' mode opens the file for binary appending\n",
    "                np.save(f, flattened_batch)\n",
    "\n",
    "# Example usage\n",
    "flatten_board_states_to_disk(reduced_data_loaded, 'board_states_4d', './data/flattened_states.npy')\n",
    "\n",
    "# Loading the data\n",
    "with open('./data/flattened_states.npy', 'rb') as f:\n",
    "    X_4d = []\n",
    "    while True:\n",
    "        try:\n",
    "            X_4d.append(np.load(f))\n",
    "        except:  # This will be raised when reaching the end of the file\n",
    "            break\n",
    "    X_4d = np.concatenate(X_4d)"
   ]
  },
  {
   "cell_type": "code",
   "execution_count": null,
   "metadata": {},
   "outputs": [],
   "source": [
    "y = np.repeat(reduced_data_loaded['grouped_opening'], reduced_data_loaded['moves'].apply(lambda x: len(x.split())))"
   ]
  },
  {
   "cell_type": "code",
   "execution_count": null,
   "metadata": {},
   "outputs": [
    {
     "name": "stdout",
     "output_type": "stream",
     "text": [
      "(1211088, 768) (1211088,)\n"
     ]
    }
   ],
   "source": [
    "print(X_4d.shape, y.shape)"
   ]
  }
 ],
 "metadata": {
  "kernelspec": {
   "display_name": ".venv",
   "language": "python",
   "name": "python3"
  },
  "language_info": {
   "codemirror_mode": {
    "name": "ipython",
    "version": 3
   },
   "file_extension": ".py",
   "mimetype": "text/x-python",
   "name": "python",
   "nbconvert_exporter": "python",
   "pygments_lexer": "ipython3",
   "version": "3.10.12"
  }
 },
 "nbformat": 4,
 "nbformat_minor": 2
}
