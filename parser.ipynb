{
 "cells": [
  {
   "cell_type": "code",
   "execution_count": 1,
   "metadata": {},
   "outputs": [
    {
     "name": "stderr",
     "output_type": "stream",
     "text": [
      "2024-08-13 17:35:24.339948: I tensorflow/core/util/port.cc:153] oneDNN custom operations are on. You may see slightly different numerical results due to floating-point round-off errors from different computation orders. To turn them off, set the environment variable `TF_ENABLE_ONEDNN_OPTS=0`.\n",
      "2024-08-13 17:35:24.606749: I external/local_xla/xla/tsl/cuda/cudart_stub.cc:32] Could not find cuda drivers on your machine, GPU will not be used.\n",
      "2024-08-13 17:35:26.620984: I external/local_xla/xla/tsl/cuda/cudart_stub.cc:32] Could not find cuda drivers on your machine, GPU will not be used.\n",
      "2024-08-13 17:35:28.867458: E external/local_xla/xla/stream_executor/cuda/cuda_fft.cc:485] Unable to register cuFFT factory: Attempting to register factory for plugin cuFFT when one has already been registered\n",
      "2024-08-13 17:35:30.165355: E external/local_xla/xla/stream_executor/cuda/cuda_dnn.cc:8454] Unable to register cuDNN factory: Attempting to register factory for plugin cuDNN when one has already been registered\n",
      "2024-08-13 17:35:30.468286: E external/local_xla/xla/stream_executor/cuda/cuda_blas.cc:1452] Unable to register cuBLAS factory: Attempting to register factory for plugin cuBLAS when one has already been registered\n",
      "2024-08-13 17:35:32.526545: I tensorflow/core/platform/cpu_feature_guard.cc:210] This TensorFlow binary is optimized to use available CPU instructions in performance-critical operations.\n",
      "To enable the following instructions: AVX2 AVX512F AVX512_VNNI FMA, in other operations, rebuild TensorFlow with the appropriate compiler flags.\n"
     ]
    }
   ],
   "source": [
    "import chess.pgn\n",
    "import tensorflow as tf\n",
    "from tensorflow.keras.layers import Embedding, LSTM, Dense, Conv1D, MaxPooling1D, Flatten, Dropout, LeakyReLU\n",
    "from tensorflow.keras.models import Sequential, load_model\n",
    "from sklearn.model_selection import train_test_split\n",
    "from tensorflow.keras.preprocessing.sequence import pad_sequences\n",
    "import chess\n",
    "from tensorflow.keras.callbacks import ModelCheckpoint, Callback\n",
    "from tensorflow.keras import backend as K\n",
    "from sklearn.metrics import accuracy_score, precision_score, recall_score, f1_score, classification_report, confusion_matrix\n",
    "from sklearn.ensemble import RandomForestClassifier\n",
    "import numpy as np\n",
    "import pandas as pd\n",
    "from sklearn.impute import SimpleImputer\n",
    "import matplotlib.pyplot as plt\n"
   ]
  },
  {
   "cell_type": "code",
   "execution_count": null,
   "metadata": {},
   "outputs": [],
   "source": [
    "data = pd.read_csv('data/games.csv')\n",
    "\n",
    "# Dict to convert UCI -> Int and Int -> UCI\n",
    "uci_to_int = {}\n",
    "int_to_uci = {}\n",
    "counter = 1 \n",
    "\n",
    "# Convert UCI -> Int Move\n",
    "def move_to_int(move):\n",
    "    if move not in uci_to_int:\n",
    "        global counter\n",
    "        uci_to_int[move] = counter\n",
    "        int_to_uci[counter] = move\n",
    "        counter += 1\n",
    "    return uci_to_int[move]\n",
    "\n",
    "# Convert a string of moves into ints using the chess library\n",
    "def parse_moves(moves_str):\n",
    "    board = chess.Board()\n",
    "    move_list = []\n",
    "    for move in moves_str.split():\n",
    "        try:\n",
    "            uci_move = board.push_san(move).uci()\n",
    "            move_list.append(move_to_int(uci_move))\n",
    "        except ValueError:\n",
    "            print(f\"Invalid move: {move}\")\n",
    "            break\n",
    "    return move_list\n",
    "\n",
    "\n",
    "data['parsed_moves'] = data['moves'].apply(parse_moves)\n",
    "\n",
    "X = pad_sequences(data['parsed_moves'], maxlen=28, padding='post', truncating='post')\n",
    "\n",
    "## Finding out how many moves we have (I think 27)\n",
    "max_index = max(uci_to_int.values())\n"
   ]
  },
  {
   "cell_type": "code",
   "execution_count": null,
   "metadata": {},
   "outputs": [
    {
     "name": "stdout",
     "output_type": "stream",
     "text": [
      "  opening_eco  opening_encoded\n",
      "0         D10               25\n",
      "1         B00               16\n",
      "2         C20               24\n",
      "3         D02               25\n",
      "4         C41               24\n",
      "Number of unique encoded openings: 27\n"
     ]
    }
   ],
   "source": [
    "## To avoid alot of the same name ones we cluster into just those with the same name rather than the eco\n",
    "grouped_eco_labels = {\n",
    "    'A00': 'Polish (Sokolsky) opening',\n",
    "    'A01': 'Nimzovich-Larsen attack',\n",
    "    'A02-A03': \"Bird's opening\",\n",
    "    'A04-A09': 'Reti opening',\n",
    "    'A10-A39': 'English opening',\n",
    "    'A40-A44': \"Queen's pawn\",\n",
    "    'A45-A46': \"Queen's pawn game\",\n",
    "    'A47': \"Queen's Indian defence\",\n",
    "    'A48-A49': \"King's Indian defence\",\n",
    "    'A50': \"Queen's pawn game\",\n",
    "    'A51-A52': 'Budapest defence',\n",
    "    'A53-A55': 'Old Indian defence',\n",
    "    'A56': 'Benoni defence',\n",
    "    'A57-A59': 'Benko gambit',\n",
    "    'A60-A79': 'Benoni defence',\n",
    "    'A80-A99': 'Dutch',\n",
    "    'B00': \"King's pawn opening\",\n",
    "    'B01': 'Scandinavian (centre counter) defence',\n",
    "    'B02-B05': \"Alekhine's defence\",\n",
    "    'B06': 'Robatsch (modern) defence',\n",
    "    'B07-B09': 'Pirc defence',\n",
    "    'B10-B19': 'Caro-Kann defence',\n",
    "    'B20-B99': 'Sicilian defence',\n",
    "    'C00-C19': 'French defence',\n",
    "    'C20-C99': \"King's pawn game\",\n",
    "    'D00-D99': \"Queen's Gambit\",\n",
    "    'E00-E99': \"King's Indian defence\",\n",
    "}\n",
    "\n",
    "\n",
    "## Converting the eco to integers\n",
    "eco_to_int = {}\n",
    "int_to_opening = {}\n",
    "counter = 0\n",
    "\n",
    "for eco_range, opening_name in grouped_eco_labels.items():\n",
    "    if '-' in eco_range:\n",
    "        start, end = eco_range.split('-')\n",
    "        for i in range(int(start[1:]), int(end[1:]) + 1):\n",
    "            eco = start[0] + str(i).zfill(2)\n",
    "            if eco not in eco_to_int:\n",
    "                eco_to_int[eco] = counter\n",
    "    else:\n",
    "        if eco_range not in eco_to_int:\n",
    "            eco_to_int[eco_range] = counter\n",
    "\n",
    "    int_to_opening[counter] = opening_name\n",
    "    counter += 1\n",
    "\n",
    "data['opening_encoded'] = data['opening_eco'].map(eco_to_int)\n",
    "\n",
    "print(data[['opening_eco', 'opening_encoded']].head())\n",
    "\n",
    "num_unique_openings = data['opening_encoded'].nunique()\n",
    "\n",
    "print(f\"Number of unique encoded openings: {num_unique_openings}\")\n"
   ]
  },
  {
   "cell_type": "code",
   "execution_count": null,
   "metadata": {},
   "outputs": [
    {
     "name": "stdout",
     "output_type": "stream",
     "text": [
      "(16046, 28)\n"
     ]
    }
   ],
   "source": [
    "X_train, X_test, y_train, y_test = train_test_split(X, data['opening_encoded'], test_size=0.2, random_state=42)\n",
    "\n",
    "print(X_train.shape)"
   ]
  },
  {
   "cell_type": "code",
   "execution_count": null,
   "metadata": {},
   "outputs": [],
   "source": [
    "## Prints the validation progress to a png file every \"save_every\" epochs\n",
    "class ValidationLossPlotter(Callback):\n",
    "    def __init__(self, save_every=5):\n",
    "        super(ValidationLossPlotter, self).__init__()\n",
    "        self.epoch_count = 0\n",
    "        self.save_every = save_every\n",
    "        self.history = []\n",
    "\n",
    "    def on_epoch_end(self, epoch, logs=None):\n",
    "        val_loss = logs.get('val_loss')\n",
    "        self.history.append(val_loss)\n",
    "        self.epoch_count += 1\n",
    "\n",
    "        plt.figure(figsize=(10, 6))\n",
    "        plt.plot(range(1, self.epoch_count + 1), self.history, label='Validation Loss')\n",
    "        plt.xlabel('Epochs')\n",
    "        plt.ylabel('Validation Loss')\n",
    "        plt.title('Validation Loss Progress')\n",
    "        plt.legend()\n",
    "\n",
    "        if self.epoch_count % self.save_every == 0:\n",
    "            plt.savefig('validation_progress.png')\n",
    "\n",
    "        plt.close()"
   ]
  },
  {
   "cell_type": "code",
   "execution_count": null,
   "metadata": {},
   "outputs": [
    {
     "name": "stderr",
     "output_type": "stream",
     "text": [
      "/mnt/c/Users/Maxwell Bruce/Desktop/AML/ChessOpenningMovePredictor/myenv/lib/python3.10/site-packages/keras/src/layers/core/embedding.py:90: UserWarning: Argument `input_length` is deprecated. Just remove it.\n",
      "  warnings.warn(\n"
     ]
    },
    {
     "name": "stdout",
     "output_type": "stream",
     "text": [
      "Epoch 1/2\n",
      "\u001b[1m13/13\u001b[0m \u001b[32m━━━━━━━━━━━━━━━━━━━━\u001b[0m\u001b[37m\u001b[0m \u001b[1m0s\u001b[0m 839ms/step - accuracy: 0.2474 - loss: 3.0785\n",
      "Epoch 1: val_accuracy improved from -inf to 0.31402, saving model to best_model.keras\n",
      "\u001b[1m13/13\u001b[0m \u001b[32m━━━━━━━━━━━━━━━━━━━━\u001b[0m\u001b[37m\u001b[0m \u001b[1m18s\u001b[0m 1s/step - accuracy: 0.2503 - loss: 3.0615 - val_accuracy: 0.3140 - val_loss: 2.4429\n",
      "Epoch 2/2\n",
      "\u001b[1m13/13\u001b[0m \u001b[32m━━━━━━━━━━━━━━━━━━━━\u001b[0m\u001b[37m\u001b[0m \u001b[1m0s\u001b[0m 777ms/step - accuracy: 0.3071 - loss: 2.4458\n",
      "Epoch 2: val_accuracy did not improve from 0.31402\n",
      "\u001b[1m13/13\u001b[0m \u001b[32m━━━━━━━━━━━━━━━━━━━━\u001b[0m\u001b[37m\u001b[0m \u001b[1m12s\u001b[0m 902ms/step - accuracy: 0.3073 - loss: 2.4446 - val_accuracy: 0.3140 - val_loss: 2.3871\n"
     ]
    },
    {
     "data": {
      "text/plain": [
       "<keras.src.callbacks.history.History at 0x7eff51a23010>"
      ]
     },
     "execution_count": 6,
     "metadata": {},
     "output_type": "execute_result"
    }
   ],
   "source": [
    "## Simple lstm model\n",
    "model = Sequential([\n",
    "    Embedding(input_dim=max_index + 1, output_dim=128, input_length=100),  \n",
    "    LSTM(256, return_sequences=True),\n",
    "    LSTM(128, return_sequences=True),  \n",
    "    LSTM(64),  \n",
    "    Dense(128, activation='relu'), \n",
    "    Dense(num_unique_openings, activation='softmax') \n",
    "])\n",
    "\n",
    "## Setting up checkpoint and validation plotter\n",
    "best_model_name = 'best_model.keras'\n",
    "validation_plotter = ValidationLossPlotter(save_every=2)\n",
    "checkpoint = ModelCheckpoint(best_model_name, monitor='val_accuracy', save_best_only=True, mode='max', verbose=1)\n",
    "\n",
    "## Compile\n",
    "model.compile(optimizer='adam', \n",
    "              loss='sparse_categorical_crossentropy', \n",
    "              metrics=['accuracy'])\n",
    "\n",
    "## Run\n",
    "epochs = 25\n",
    "model.fit(X_train, y_train, epochs=epochs, batch_size=1024, validation_split=0.2, shuffle=True, \n",
    "          callbacks=[checkpoint, validation_plotter])"
   ]
  },
  {
   "cell_type": "code",
   "execution_count": null,
   "metadata": {},
   "outputs": [
    {
     "name": "stdout",
     "output_type": "stream",
     "text": [
      "\u001b[1m126/126\u001b[0m \u001b[32m━━━━━━━━━━━━━━━━━━━━\u001b[0m\u001b[37m\u001b[0m \u001b[1m3s\u001b[0m 26ms/step\n",
      "Test Accuracy: 0.2978564307078764\n",
      "Test Precision: 0.7908620226061596\n",
      "Test Recall: 0.2978564307078764\n",
      "Test F1-Score: 0.13671535805489238\n"
     ]
    }
   ],
   "source": [
    "\n",
    "## Load the best model and print metrics\n",
    "best_model = tf.keras.models.load_model('best_model.keras')\n",
    "\n",
    "y_pred = best_model.predict(X_test)\n",
    "y_pred_classes = y_pred.argmax(axis=1)\n",
    "\n",
    "accuracy = accuracy_score(y_test, y_pred_classes)\n",
    "precision = precision_score(y_test, y_pred_classes, average='weighted', zero_division=1)\n",
    "recall = recall_score(y_test, y_pred_classes, average='weighted')\n",
    "f1 = f1_score(y_test, y_pred_classes, average='weighted', zero_division=1)\n",
    "\n",
    "print(f\"Test Accuracy: {accuracy}\")\n",
    "print(f\"Test Precision: {precision}\")\n",
    "print(f\"Test Recall: {recall}\")\n",
    "print(f\"Test F1-Score: {f1}\")"
   ]
  },
  {
   "cell_type": "code",
   "execution_count": null,
   "metadata": {},
   "outputs": [
    {
     "name": "stdout",
     "output_type": "stream",
     "text": [
      "RandomForest Test Accuracy: 0.9219840478564307\n",
      "RandomForest Test Precision: 0.9242640467146178\n",
      "RandomForest Test Recall: 0.9219840478564307\n",
      "RandomForest Test F1-Score: 0.918758554948514\n"
     ]
    }
   ],
   "source": [
    "## Now do the same except for random forest\n",
    "X_train_flat = X_train.reshape(X_train.shape[0], -1)\n",
    "X_test_flat = X_test.reshape(X_test.shape[0], -1)\n",
    "\n",
    "rf_model = RandomForestClassifier(n_estimators=1000, random_state=42)\n",
    "rf_model.fit(X_train_flat, y_train)\n",
    "\n",
    "y_pred_rf = rf_model.predict(X_test_flat)\n",
    "\n",
    "accuracy_rf = accuracy_score(y_test, y_pred_rf)\n",
    "precision_rf = precision_score(y_test, y_pred_rf, average='weighted', zero_division=1)\n",
    "recall_rf = recall_score(y_test, y_pred_rf, average='weighted')\n",
    "f1_rf = f1_score(y_test, y_pred_rf, average='weighted', zero_division=1)\n",
    "\n",
    "print(f\"RandomForest Test Accuracy: {accuracy_rf}\")\n",
    "print(f\"RandomForest Test Precision: {precision_rf}\")\n",
    "print(f\"RandomForest Test Recall: {recall_rf}\")\n",
    "print(f\"RandomForest Test F1-Score: {f1_rf}\")"
   ]
  },
  {
   "cell_type": "code",
   "execution_count": null,
   "metadata": {},
   "outputs": [],
   "source": []
  }
 ],
 "metadata": {
  "kernelspec": {
   "display_name": "Python 3",
   "language": "python",
   "name": "python3"
  },
  "language_info": {
   "codemirror_mode": {
    "name": "ipython",
    "version": 3
   },
   "file_extension": ".py",
   "mimetype": "text/x-python",
   "name": "python",
   "nbconvert_exporter": "python",
   "pygments_lexer": "ipython3",
   "version": "3.10.12"
  }
 },
 "nbformat": 4,
 "nbformat_minor": 2
}
